{
 "cells": [
  {
   "cell_type": "code",
   "execution_count": 1,
   "metadata": {},
   "outputs": [
    {
     "name": "stdout",
     "output_type": "stream",
     "text": [
      "Requirement already satisfied: tensorflow in d:\\miniconda\\lib\\site-packages (2.9.1)\n",
      "Requirement already satisfied: setuptools in d:\\miniconda\\lib\\site-packages (from tensorflow) (58.0.4)\n",
      "Requirement already satisfied: flatbuffers<2,>=1.12 in d:\\miniconda\\lib\\site-packages (from tensorflow) (1.12)\n",
      "Requirement already satisfied: wrapt>=1.11.0 in d:\\miniconda\\lib\\site-packages (from tensorflow) (1.14.1)\n",
      "Requirement already satisfied: absl-py>=1.0.0 in d:\\miniconda\\lib\\site-packages (from tensorflow) (1.1.0)\n",
      "Requirement already satisfied: astunparse>=1.6.0 in d:\\miniconda\\lib\\site-packages (from tensorflow) (1.6.3)\n",
      "Requirement already satisfied: tensorflow-io-gcs-filesystem>=0.23.1 in d:\\miniconda\\lib\\site-packages (from tensorflow) (0.26.0)\n",
      "Requirement already satisfied: tensorflow-estimator<2.10.0,>=2.9.0rc0 in d:\\miniconda\\lib\\site-packages (from tensorflow) (2.9.0)\n",
      "Requirement already satisfied: numpy>=1.20 in d:\\miniconda\\lib\\site-packages (from tensorflow) (1.22.3)\n",
      "Requirement already satisfied: gast<=0.4.0,>=0.2.1 in d:\\miniconda\\lib\\site-packages (from tensorflow) (0.4.0)\n",
      "Requirement already satisfied: opt-einsum>=2.3.2 in d:\\miniconda\\lib\\site-packages (from tensorflow) (3.3.0)\n",
      "Requirement already satisfied: keras<2.10.0,>=2.9.0rc0 in d:\\miniconda\\lib\\site-packages (from tensorflow) (2.9.0)\n",
      "Requirement already satisfied: six>=1.12.0 in d:\\miniconda\\lib\\site-packages (from tensorflow) (1.16.0)\n",
      "Requirement already satisfied: termcolor>=1.1.0 in d:\\miniconda\\lib\\site-packages (from tensorflow) (1.1.0)\n",
      "Requirement already satisfied: grpcio<2.0,>=1.24.3 in d:\\miniconda\\lib\\site-packages (from tensorflow) (1.47.0)\n",
      "Requirement already satisfied: protobuf<3.20,>=3.9.2 in d:\\miniconda\\lib\\site-packages (from tensorflow) (3.19.4)\n",
      "Requirement already satisfied: typing-extensions>=3.6.6 in d:\\miniconda\\lib\\site-packages (from tensorflow) (4.1.1)\n",
      "Requirement already satisfied: libclang>=13.0.0 in d:\\miniconda\\lib\\site-packages (from tensorflow) (14.0.1)\n",
      "Requirement already satisfied: tensorboard<2.10,>=2.9 in d:\\miniconda\\lib\\site-packages (from tensorflow) (2.9.1)\n",
      "Requirement already satisfied: h5py>=2.9.0 in d:\\miniconda\\lib\\site-packages (from tensorflow) (3.7.0)\n",
      "Requirement already satisfied: packaging in d:\\miniconda\\lib\\site-packages (from tensorflow) (21.3)\n",
      "Requirement already satisfied: keras-preprocessing>=1.1.1 in d:\\miniconda\\lib\\site-packages (from tensorflow) (1.1.2)\n",
      "Requirement already satisfied: google-pasta>=0.1.1 in d:\\miniconda\\lib\\site-packages (from tensorflow) (0.2.0)\n",
      "Requirement already satisfied: wheel<1.0,>=0.23.0 in d:\\miniconda\\lib\\site-packages (from astunparse>=1.6.0->tensorflow) (0.37.1)\n",
      "Requirement already satisfied: tensorboard-data-server<0.7.0,>=0.6.0 in d:\\miniconda\\lib\\site-packages (from tensorboard<2.10,>=2.9->tensorflow) (0.6.1)\n",
      "Requirement already satisfied: tensorboard-plugin-wit>=1.6.0 in d:\\miniconda\\lib\\site-packages (from tensorboard<2.10,>=2.9->tensorflow) (1.8.1)\n",
      "Requirement already satisfied: google-auth-oauthlib<0.5,>=0.4.1 in d:\\miniconda\\lib\\site-packages (from tensorboard<2.10,>=2.9->tensorflow) (0.4.6)\n",
      "Requirement already satisfied: google-auth<3,>=1.6.3 in d:\\miniconda\\lib\\site-packages (from tensorboard<2.10,>=2.9->tensorflow) (2.8.0)\n",
      "Requirement already satisfied: markdown>=2.6.8 in d:\\miniconda\\lib\\site-packages (from tensorboard<2.10,>=2.9->tensorflow) (3.3.7)\n",
      "Requirement already satisfied: requests<3,>=2.21.0 in d:\\miniconda\\lib\\site-packages (from tensorboard<2.10,>=2.9->tensorflow) (2.27.1)\n",
      "Requirement already satisfied: werkzeug>=1.0.1 in d:\\miniconda\\lib\\site-packages (from tensorboard<2.10,>=2.9->tensorflow) (2.1.2)\n",
      "Requirement already satisfied: rsa<5,>=3.1.4 in d:\\miniconda\\lib\\site-packages (from google-auth<3,>=1.6.3->tensorboard<2.10,>=2.9->tensorflow) (4.8)\n",
      "Requirement already satisfied: pyasn1-modules>=0.2.1 in d:\\miniconda\\lib\\site-packages (from google-auth<3,>=1.6.3->tensorboard<2.10,>=2.9->tensorflow) (0.2.8)\n",
      "Requirement already satisfied: cachetools<6.0,>=2.0.0 in d:\\miniconda\\lib\\site-packages (from google-auth<3,>=1.6.3->tensorboard<2.10,>=2.9->tensorflow) (5.2.0)\n",
      "Requirement already satisfied: requests-oauthlib>=0.7.0 in d:\\miniconda\\lib\\site-packages (from google-auth-oauthlib<0.5,>=0.4.1->tensorboard<2.10,>=2.9->tensorflow) (1.3.1)\n",
      "Requirement already satisfied: importlib-metadata>=4.4 in d:\\miniconda\\lib\\site-packages (from markdown>=2.6.8->tensorboard<2.10,>=2.9->tensorflow) (4.11.3)\n",
      "Requirement already satisfied: zipp>=0.5 in d:\\miniconda\\lib\\site-packages (from importlib-metadata>=4.4->markdown>=2.6.8->tensorboard<2.10,>=2.9->tensorflow) (3.7.0)\n",
      "Requirement already satisfied: pyasn1<0.5.0,>=0.4.6 in d:\\miniconda\\lib\\site-packages (from pyasn1-modules>=0.2.1->google-auth<3,>=1.6.3->tensorboard<2.10,>=2.9->tensorflow) (0.4.8)\n",
      "Requirement already satisfied: urllib3<1.27,>=1.21.1 in d:\\miniconda\\lib\\site-packages (from requests<3,>=2.21.0->tensorboard<2.10,>=2.9->tensorflow) (1.26.7)\n",
      "Requirement already satisfied: idna<4,>=2.5 in d:\\miniconda\\lib\\site-packages (from requests<3,>=2.21.0->tensorboard<2.10,>=2.9->tensorflow) (3.3)\n",
      "Requirement already satisfied: charset-normalizer~=2.0.0 in d:\\miniconda\\lib\\site-packages (from requests<3,>=2.21.0->tensorboard<2.10,>=2.9->tensorflow) (2.0.4)\n",
      "Requirement already satisfied: certifi>=2017.4.17 in d:\\miniconda\\lib\\site-packages (from requests<3,>=2.21.0->tensorboard<2.10,>=2.9->tensorflow) (2021.10.8)\n",
      "Requirement already satisfied: oauthlib>=3.0.0 in d:\\miniconda\\lib\\site-packages (from requests-oauthlib>=0.7.0->google-auth-oauthlib<0.5,>=0.4.1->tensorboard<2.10,>=2.9->tensorflow) (3.2.0)\n",
      "Requirement already satisfied: pyparsing!=3.0.5,>=2.0.2 in d:\\miniconda\\lib\\site-packages (from packaging->tensorflow) (3.0.4)\n",
      "Note: you may need to restart the kernel to use updated packages.\n"
     ]
    }
   ],
   "source": [
    "pip install tensorflow"
   ]
  },
  {
   "cell_type": "code",
   "execution_count": 2,
   "metadata": {},
   "outputs": [
    {
     "name": "stdout",
     "output_type": "stream",
     "text": [
      "Requirement already satisfied: keras in d:\\miniconda\\lib\\site-packages (2.9.0)\n",
      "Note: you may need to restart the kernel to use updated packages.\n"
     ]
    }
   ],
   "source": [
    "pip install keras"
   ]
  },
  {
   "cell_type": "code",
   "execution_count": 3,
   "metadata": {},
   "outputs": [
    {
     "name": "stdout",
     "output_type": "stream",
     "text": [
      "Requirement already satisfied: mnist in d:\\miniconda\\lib\\site-packages (0.2.2)\n",
      "Requirement already satisfied: numpy in d:\\miniconda\\lib\\site-packages (from mnist) (1.22.3)\n",
      "Note: you may need to restart the kernel to use updated packages.\n"
     ]
    }
   ],
   "source": [
    "pip install mnist"
   ]
  },
  {
   "cell_type": "code",
   "execution_count": 4,
   "metadata": {},
   "outputs": [],
   "source": [
    "import numpy as np\n",
    "import keras\n",
    "import mnist\n",
    "from keras.models import Sequential\n",
    "from keras.layers import Dense\n",
    "from keras.utils import to_categorical\n",
    "import matplotlib.pyplot as plt"
   ]
  },
  {
   "cell_type": "code",
   "execution_count": 5,
   "metadata": {},
   "outputs": [
    {
     "name": "stdout",
     "output_type": "stream",
     "text": [
      "(60000, 28, 28)\n",
      "(60000,)\n"
     ]
    }
   ],
   "source": [
    "# The first time you run this might be a bit slow, since the\n",
    "# mnist package has to download and cache the data.\n",
    "train_images = mnist.train_images()\n",
    "train_labels = mnist.train_labels()\n",
    "\n",
    "test_images = mnist.test_images()\n",
    "test_labels = mnist.test_labels()\n",
    "\n",
    "# Normalize the images.\n",
    "train_images = (train_images / 255) - 0.5\n",
    "test_images = (test_images / 255) - 0.5\n",
    "\n",
    "print(train_images.shape) # (60000, 28, 28)\n",
    "print(train_labels.shape) # (60000,)"
   ]
  },
  {
   "cell_type": "code",
   "execution_count": 6,
   "metadata": {},
   "outputs": [
    {
     "name": "stdout",
     "output_type": "stream",
     "text": [
      "(60000, 784)\n",
      "(10000, 784)\n"
     ]
    }
   ],
   "source": [
    "# Flatten the images.\n",
    "train_images = train_images.reshape((-1, 784))\n",
    "test_images = test_images.reshape((-1, 784))\n",
    "\n",
    "print(train_images.shape) # (60000, 784)\n",
    "print(test_images.shape)  # (10000, 784)"
   ]
  },
  {
   "cell_type": "code",
   "execution_count": 7,
   "metadata": {},
   "outputs": [],
   "source": [
    "model = Sequential()\n",
    "model.add(Dense(64, input_dim=784, activation='relu'))\n",
    "model.add(Dense(64, activation='relu'))\n",
    "model.add(Dense(10, activation='softmax'))"
   ]
  },
  {
   "cell_type": "code",
   "execution_count": 8,
   "metadata": {},
   "outputs": [],
   "source": [
    "model.compile(\n",
    "  optimizer='adam',\n",
    "  loss='categorical_crossentropy',\n",
    "  metrics=['accuracy'],\n",
    ")"
   ]
  },
  {
   "cell_type": "code",
   "execution_count": 9,
   "metadata": {},
   "outputs": [
    {
     "name": "stdout",
     "output_type": "stream",
     "text": [
      "Epoch 1/5\n",
      "1875/1875 [==============================] - 1s 583us/step - loss: 0.3612 - accuracy: 0.8918\n",
      "Epoch 2/5\n",
      "1875/1875 [==============================] - 1s 574us/step - loss: 0.1911 - accuracy: 0.9420\n",
      "Epoch 3/5\n",
      "1875/1875 [==============================] - 1s 573us/step - loss: 0.1480 - accuracy: 0.9545\n",
      "Epoch 4/5\n",
      "1875/1875 [==============================] - 1s 574us/step - loss: 0.1234 - accuracy: 0.9619\n",
      "Epoch 5/5\n",
      "1875/1875 [==============================] - 1s 571us/step - loss: 0.1073 - accuracy: 0.9661\n",
      "CPU times: total: 21.1 s\n",
      "Wall time: 5.66 s\n"
     ]
    },
    {
     "data": {
      "text/plain": [
       "<keras.callbacks.History at 0x26ec7199e50>"
      ]
     },
     "execution_count": 9,
     "metadata": {},
     "output_type": "execute_result"
    }
   ],
   "source": [
    "%%time\n",
    "model.fit(train_images, \n",
    "          to_categorical(train_labels), \n",
    "          epochs=5, \n",
    "          batch_size=32)"
   ]
  },
  {
   "cell_type": "code",
   "execution_count": 10,
   "metadata": {},
   "outputs": [
    {
     "name": "stdout",
     "output_type": "stream",
     "text": [
      "313/313 [==============================] - 0s 454us/step - loss: 0.1199 - accuracy: 0.9613\n"
     ]
    },
    {
     "data": {
      "text/plain": [
       "[0.11993402242660522, 0.9613000154495239]"
      ]
     },
     "execution_count": 10,
     "metadata": {},
     "output_type": "execute_result"
    }
   ],
   "source": [
    "# Evaluate the model.\n",
    "model.evaluate(\n",
    "  test_images,\n",
    "  to_categorical(test_labels)\n",
    ")"
   ]
  },
  {
   "cell_type": "code",
   "execution_count": 11,
   "metadata": {},
   "outputs": [],
   "source": [
    "# Save the model to disk.\n",
    "model.save_weights('model.h5')\n",
    "\n",
    "# Load the model from disk later using:\n",
    "# model.load_weights('model.h5')"
   ]
  },
  {
   "cell_type": "code",
   "execution_count": 12,
   "metadata": {},
   "outputs": [
    {
     "name": "stdout",
     "output_type": "stream",
     "text": [
      "1/1 [==============================] - 0s 37ms/step\n"
     ]
    }
   ],
   "source": [
    "predictions = model.predict(test_images[:5])"
   ]
  },
  {
   "cell_type": "code",
   "execution_count": 13,
   "metadata": {},
   "outputs": [
    {
     "name": "stdout",
     "output_type": "stream",
     "text": [
      "[7 2 1 0 4]\n",
      "[7 2 1 0 4]\n"
     ]
    }
   ],
   "source": [
    "print(np.argmax(predictions, axis=1)) # [7, 2, 1, 0, 4]\n",
    "print(test_labels[:5]) # [7, 2, 1, 0, 4]"
   ]
  },
  {
   "cell_type": "code",
   "execution_count": 14,
   "metadata": {},
   "outputs": [],
   "source": [
    "# влияение количества слоев на точность"
   ]
  },
  {
   "cell_type": "code",
   "execution_count": 15,
   "metadata": {},
   "outputs": [],
   "source": [
    "losses = [0] * 10\n",
    "accuracy = [0] * 10"
   ]
  },
  {
   "cell_type": "code",
   "execution_count": 16,
   "metadata": {},
   "outputs": [
    {
     "name": "stdout",
     "output_type": "stream",
     "text": [
      "313/313 [==============================] - 0s 438us/step - loss: 0.1305 - accuracy: 0.9617\n",
      "0 : loss -  0.13050074875354767 , accuracy:  0.9617000222206116\n",
      "313/313 [==============================] - 0s 457us/step - loss: 0.1306 - accuracy: 0.9611\n",
      "1 : loss -  0.13064685463905334 , accuracy:  0.9610999822616577\n",
      "313/313 [==============================] - 0s 447us/step - loss: 0.1088 - accuracy: 0.9663\n",
      "2 : loss -  0.10881490260362625 , accuracy:  0.9663000106811523\n",
      "313/313 [==============================] - 0s 454us/step - loss: 0.1165 - accuracy: 0.9639\n",
      "3 : loss -  0.1164962500333786 , accuracy:  0.9639000296592712\n",
      "313/313 [==============================] - 0s 460us/step - loss: 0.1200 - accuracy: 0.9609\n",
      "4 : loss -  0.12004020065069199 , accuracy:  0.9609000086784363\n",
      "313/313 [==============================] - 0s 495us/step - loss: 0.1459 - accuracy: 0.9566\n",
      "5 : loss -  0.14594708383083344 , accuracy:  0.95660001039505\n",
      "313/313 [==============================] - 0s 495us/step - loss: 0.1453 - accuracy: 0.9569\n",
      "6 : loss -  0.14529642462730408 , accuracy:  0.9569000005722046\n",
      "313/313 [==============================] - 0s 505us/step - loss: 0.1483 - accuracy: 0.9585\n",
      "7 : loss -  0.1483439803123474 , accuracy:  0.9585000276565552\n",
      "313/313 [==============================] - 0s 514us/step - loss: 0.1370 - accuracy: 0.9603\n",
      "8 : loss -  0.1369621604681015 , accuracy:  0.9603000283241272\n",
      "313/313 [==============================] - 0s 518us/step - loss: 0.1931 - accuracy: 0.9455\n",
      "9 : loss -  0.19310472905635834 , accuracy:  0.9455000162124634\n"
     ]
    }
   ],
   "source": [
    "for i in range(10):\n",
    "    # Формируем массив промежуточных слоев.\n",
    "    laers =[Dense(64, activation='relu', input_shape=(784,))]\n",
    "    for j in range(i):\n",
    "        laers.append(Dense(64, activation='relu'))\n",
    "    laers.append(Dense(10, activation='softplus'))\n",
    "    model = Sequential(laers)\n",
    "\n",
    "    model.compile(\n",
    "        optimizer='adam', \n",
    "        loss='categorical_crossentropy', \n",
    "        metrics=['accuracy']\n",
    "    )\n",
    "\n",
    "    model.fit(\n",
    "        train_images, \n",
    "        to_categorical(train_labels), \n",
    "        epochs=5, \n",
    "        batch_size=32,\n",
    "        verbose=0\n",
    "    )\n",
    "\n",
    "    result = model.evaluate(test_images, to_categorical(test_labels))\n",
    "    losses[i] = result[0]\n",
    "    accuracy[i] = result[1]\n",
    "    \n",
    "    print(i, ': loss - ', losses[i], ', accuracy: ', accuracy[i])"
   ]
  },
  {
   "cell_type": "code",
   "execution_count": 17,
   "metadata": {},
   "outputs": [
    {
     "data": {
      "image/png": "[encoded data removed]",
      "text/plain": [
       "<Figure size 864x288 with 2 Axes>"
      ]
     },
     "metadata": {
      "needs_background": "light"
     },
     "output_type": "display_data"
    }
   ],
   "source": [
    "plt.figure(figsize=(12, 4))\n",
    "\n",
    "plt.subplot(1, 2, 1)\n",
    "plt.plot(accuracy)\n",
    "plt.title('Точность')\n",
    "\n",
    "plt.subplot(1, 2, 2)\n",
    "plt.plot(losses)\n",
    "plt.title('Ошибка')\n",
    "\n",
    "plt.show()"
   ]
  },
  {
   "cell_type": "code",
   "execution_count": 18,
   "metadata": {},
   "outputs": [],
   "source": [
    "# самый лучший 1 скрытый слой"
   ]
  },
  {
   "cell_type": "code",
   "execution_count": 19,
   "metadata": {},
   "outputs": [],
   "source": [
    "# количество нейронов в скрытом слое"
   ]
  },
  {
   "cell_type": "code",
   "execution_count": 20,
   "metadata": {},
   "outputs": [],
   "source": [
    "losses = [0] * 40\n",
    "accuracy = [0] * 40"
   ]
  },
  {
   "cell_type": "code",
   "execution_count": 21,
   "metadata": {},
   "outputs": [
    {
     "name": "stdout",
     "output_type": "stream",
     "text": [
      "313/313 [==============================] - 0s 447us/step - loss: 1.3662 - accuracy: 0.5089\n",
      "1  нейронов: loss -  1.3661752939224243 , accuracy:  0.508899986743927\n",
      "313/313 [==============================] - 0s 447us/step - loss: 0.5314 - accuracy: 0.8840\n",
      "2  нейронов: loss -  0.5314294099807739 , accuracy:  0.8840000033378601\n",
      "313/313 [==============================] - 0s 466us/step - loss: 0.2720 - accuracy: 0.9272\n",
      "3  нейронов: loss -  0.2719917297363281 , accuracy:  0.9272000193595886\n",
      "313/313 [==============================] - 0s 472us/step - loss: 0.2781 - accuracy: 0.9307\n",
      "4  нейронов: loss -  0.2780960500240326 , accuracy:  0.9307000041007996\n",
      "313/313 [==============================] - 0s 502us/step - loss: 0.2027 - accuracy: 0.9387\n",
      "5  нейронов: loss -  0.20272324979305267 , accuracy:  0.9387000203132629\n",
      "313/313 [==============================] - 0s 482us/step - loss: 0.2026 - accuracy: 0.9414\n",
      "6  нейронов: loss -  0.20256058871746063 , accuracy:  0.9413999915122986\n",
      "313/313 [==============================] - 0s 490us/step - loss: 0.2137 - accuracy: 0.9394\n",
      "7  нейронов: loss -  0.21368195116519928 , accuracy:  0.9394000172615051\n",
      "313/313 [==============================] - 0s 479us/step - loss: 0.1439 - accuracy: 0.9561\n",
      "8  нейронов: loss -  0.14389078319072723 , accuracy:  0.9560999870300293\n",
      "313/313 [==============================] - 0s 454us/step - loss: 0.2226 - accuracy: 0.9312\n",
      "9  нейронов: loss -  0.22257858514785767 , accuracy:  0.9312000274658203\n",
      "313/313 [==============================] - 0s 484us/step - loss: 0.1593 - accuracy: 0.9545\n",
      "10  нейронов: loss -  0.15926988422870636 , accuracy:  0.9545000195503235\n",
      "313/313 [==============================] - 0s 444us/step - loss: 0.1395 - accuracy: 0.9564\n",
      "11  нейронов: loss -  0.13951759040355682 , accuracy:  0.9563999772071838\n",
      "313/313 [==============================] - 0s 470us/step - loss: 0.1392 - accuracy: 0.9587\n",
      "12  нейронов: loss -  0.13924023509025574 , accuracy:  0.9587000012397766\n",
      "313/313 [==============================] - 0s 460us/step - loss: 0.1346 - accuracy: 0.9589\n",
      "13  нейронов: loss -  0.13464751839637756 , accuracy:  0.958899974822998\n",
      "313/313 [==============================] - 0s 444us/step - loss: 0.1608 - accuracy: 0.9536\n",
      "14  нейронов: loss -  0.16083945333957672 , accuracy:  0.9535999894142151\n",
      "313/313 [==============================] - 0s 476us/step - loss: 0.1227 - accuracy: 0.9643\n",
      "15  нейронов: loss -  0.12265884131193161 , accuracy:  0.9642999768257141\n",
      "313/313 [==============================] - 0s 454us/step - loss: 0.1492 - accuracy: 0.9524\n",
      "16  нейронов: loss -  0.14916867017745972 , accuracy:  0.9524000287055969\n",
      "313/313 [==============================] - 0s 466us/step - loss: 0.1403 - accuracy: 0.9585\n",
      "17  нейронов: loss -  0.1403198093175888 , accuracy:  0.9585000276565552\n",
      "313/313 [==============================] - 0s 473us/step - loss: 0.1409 - accuracy: 0.9553\n",
      "18  нейронов: loss -  0.140864759683609 , accuracy:  0.955299973487854\n",
      "313/313 [==============================] - 0s 473us/step - loss: 0.1550 - accuracy: 0.9562\n",
      "19  нейронов: loss -  0.15501375496387482 , accuracy:  0.9562000036239624\n",
      "313/313 [==============================] - 0s 442us/step - loss: 0.1317 - accuracy: 0.9599\n",
      "20  нейронов: loss -  0.13174167275428772 , accuracy:  0.9599000215530396\n",
      "313/313 [==============================] - 0s 500us/step - loss: 0.1466 - accuracy: 0.9564\n",
      "21  нейронов: loss -  0.14661088585853577 , accuracy:  0.9563999772071838\n",
      "313/313 [==============================] - 0s 490us/step - loss: 0.1361 - accuracy: 0.9577\n",
      "22  нейронов: loss -  0.13610292971134186 , accuracy:  0.9577000141143799\n",
      "313/313 [==============================] - 0s 478us/step - loss: 0.1255 - accuracy: 0.9597\n",
      "23  нейронов: loss -  0.12548373639583588 , accuracy:  0.9596999883651733\n",
      "313/313 [==============================] - 0s 460us/step - loss: 0.1497 - accuracy: 0.9534\n",
      "24  нейронов: loss -  0.14970211684703827 , accuracy:  0.9534000158309937\n",
      "313/313 [==============================] - 0s 450us/step - loss: 0.1532 - accuracy: 0.9531\n",
      "25  нейронов: loss -  0.15324850380420685 , accuracy:  0.9531000256538391\n",
      "313/313 [==============================] - 0s 478us/step - loss: 0.1311 - accuracy: 0.9603\n",
      "26  нейронов: loss -  0.13109338283538818 , accuracy:  0.9603000283241272\n",
      "313/313 [==============================] - 0s 466us/step - loss: 0.1415 - accuracy: 0.9566\n",
      "27  нейронов: loss -  0.1415010690689087 , accuracy:  0.95660001039505\n",
      "313/313 [==============================] - 0s 479us/step - loss: 0.1608 - accuracy: 0.9508\n",
      "28  нейронов: loss -  0.1607520580291748 , accuracy:  0.9508000016212463\n",
      "313/313 [==============================] - 0s 457us/step - loss: 0.1375 - accuracy: 0.9560\n",
      "29  нейронов: loss -  0.137469083070755 , accuracy:  0.9559999704360962\n",
      "313/313 [==============================] - 0s 488us/step - loss: 0.1488 - accuracy: 0.9542\n",
      "30  нейронов: loss -  0.14875870943069458 , accuracy:  0.954200029373169\n",
      "313/313 [==============================] - 0s 486us/step - loss: 0.1482 - accuracy: 0.9549\n",
      "31  нейронов: loss -  0.14824065566062927 , accuracy:  0.9549000263214111\n",
      "313/313 [==============================] - 0s 479us/step - loss: 0.1412 - accuracy: 0.9571\n",
      "32  нейронов: loss -  0.1411813348531723 , accuracy:  0.957099974155426\n",
      "313/313 [==============================] - 0s 470us/step - loss: 0.1481 - accuracy: 0.9557\n",
      "33  нейронов: loss -  0.1480579376220703 , accuracy:  0.9556999802589417\n",
      "313/313 [==============================] - 0s 476us/step - loss: 0.1479 - accuracy: 0.9555\n",
      "34  нейронов: loss -  0.14793670177459717 , accuracy:  0.9555000066757202\n",
      "313/313 [==============================] - 0s 468us/step - loss: 0.1181 - accuracy: 0.9642\n",
      "35  нейронов: loss -  0.11807386577129364 , accuracy:  0.9642000198364258\n",
      "313/313 [==============================] - 0s 460us/step - loss: 0.1384 - accuracy: 0.9571\n",
      "36  нейронов: loss -  0.13842330873012543 , accuracy:  0.957099974155426\n",
      "313/313 [==============================] - 0s 486us/step - loss: 0.1435 - accuracy: 0.9552\n",
      "37  нейронов: loss -  0.14351628720760345 , accuracy:  0.9552000164985657\n",
      "313/313 [==============================] - 0s 514us/step - loss: 0.1583 - accuracy: 0.9514\n",
      "38  нейронов: loss -  0.15825651586055756 , accuracy:  0.9513999819755554\n",
      "313/313 [==============================] - 0s 507us/step - loss: 0.1283 - accuracy: 0.9615\n",
      "39  нейронов: loss -  0.12826760113239288 , accuracy:  0.9614999890327454\n",
      "313/313 [==============================] - 0s 476us/step - loss: 0.1330 - accuracy: 0.9605\n",
      "40  нейронов: loss -  0.1329946219921112 , accuracy:  0.9605000019073486\n"
     ]
    }
   ],
   "source": [
    "for i in range(40):\n",
    "    model = Sequential([\n",
    "        Dense(64, activation='relu', input_shape=(784,)), \n",
    "        Dense(i + 1, activation='relu'), \n",
    "        Dense(10, activation='softplus')]\n",
    "    )\n",
    "\n",
    "    model.compile(\n",
    "        optimizer='adam', \n",
    "        loss='categorical_crossentropy', \n",
    "        metrics=['accuracy']\n",
    "    )\n",
    "\n",
    "    model.fit(\n",
    "        train_images, \n",
    "        to_categorical(train_labels), \n",
    "        epochs=5, \n",
    "        batch_size=32,\n",
    "        verbose=0\n",
    "    )\n",
    "\n",
    "    result = model.evaluate(test_images, to_categorical(test_labels))\n",
    "    losses[i - 1] = result[0]\n",
    "    accuracy[i - 1] = result[1]\n",
    "    \n",
    "    print(i + 1, ' нейронов: loss - ', result[0], ', accuracy: ', result[1])"
   ]
  },
  {
   "cell_type": "code",
   "execution_count": 22,
   "metadata": {},
   "outputs": [
    {
     "data": {
      "image/png": "[encoded data removed]",
      "text/plain": [
       "<Figure size 864x288 with 2 Axes>"
      ]
     },
     "metadata": {
      "needs_background": "light"
     },
     "output_type": "display_data"
    }
   ],
   "source": [
    "plt.figure(figsize=(12, 4))\n",
    "\n",
    "plt.subplot(1, 2, 1)\n",
    "plt.plot(accuracy)\n",
    "plt.title('Точность')\n",
    "\n",
    "plt.subplot(1, 2, 2)\n",
    "plt.plot(losses)\n",
    "plt.title('Ошибка')\n",
    "\n",
    "plt.show()"
   ]
  },
  {
   "cell_type": "code",
   "execution_count": 23,
   "metadata": {},
   "outputs": [
    {
     "name": "stdout",
     "output_type": "stream",
     "text": [
      "Оптимальное количество нейронов в слое по точности: 13\n",
      "Оптимальное количество нейронов в слое по ошибке: 33\n"
     ]
    }
   ],
   "source": [
    "print(f'Оптимальное количество нейронов в слое по точности: {accuracy.index(max(accuracy))}')\n",
    "print(f'Оптимальное количество нейронов в слое по ошибке: {losses.index(min(losses))}')"
   ]
  },
  {
   "cell_type": "code",
   "execution_count": 24,
   "metadata": {},
   "outputs": [],
   "source": [
    "# Для уверенной работы нейронной сети достаточно 6-8 нейронов "
   ]
  },
  {
   "cell_type": "code",
   "execution_count": 25,
   "metadata": {},
   "outputs": [],
   "source": [
    "# количество эпох"
   ]
  },
  {
   "cell_type": "code",
   "execution_count": 26,
   "metadata": {},
   "outputs": [],
   "source": [
    "losses = [0] * 40\n",
    "accuracy = [0] * 40"
   ]
  },
  {
   "cell_type": "code",
   "execution_count": 27,
   "metadata": {},
   "outputs": [
    {
     "name": "stdout",
     "output_type": "stream",
     "text": [
      "313/313 [==============================] - 0s 482us/step - loss: 0.2820 - accuracy: 0.9205\n",
      "1  эпох: loss -  0.28198644518852234 , accuracy:  0.9204999804496765\n",
      "313/313 [==============================] - 0s 470us/step - loss: 0.2154 - accuracy: 0.9362\n",
      "2  эпох: loss -  0.21542009711265564 , accuracy:  0.9362000226974487\n",
      "313/313 [==============================] - 0s 482us/step - loss: 0.1853 - accuracy: 0.9451\n",
      "3  эпох: loss -  0.18527473509311676 , accuracy:  0.9451000094413757\n",
      "313/313 [==============================] - 0s 463us/step - loss: 0.1784 - accuracy: 0.9444\n",
      "4  эпох: loss -  0.17837932705879211 , accuracy:  0.9444000124931335\n",
      "313/313 [==============================] - 0s 469us/step - loss: 0.2241 - accuracy: 0.9290\n",
      "5  эпох: loss -  0.2240513116121292 , accuracy:  0.9290000200271606\n",
      "313/313 [==============================] - 0s 486us/step - loss: 0.1709 - accuracy: 0.9502\n",
      "6  эпох: loss -  0.17090299725532532 , accuracy:  0.9502000212669373\n",
      "313/313 [==============================] - 0s 535us/step - loss: 0.1275 - accuracy: 0.9614\n",
      "7  эпох: loss -  0.1275133192539215 , accuracy:  0.9613999724388123\n",
      "313/313 [==============================] - 0s 473us/step - loss: 0.1314 - accuracy: 0.9614\n",
      "8  эпох: loss -  0.13138927519321442 , accuracy:  0.9613999724388123\n",
      "313/313 [==============================] - 0s 476us/step - loss: 0.1196 - accuracy: 0.9667\n",
      "9  эпох: loss -  0.11963032186031342 , accuracy:  0.96670001745224\n",
      "313/313 [==============================] - 0s 457us/step - loss: 0.1247 - accuracy: 0.9642\n",
      "10  эпох: loss -  0.12469885498285294 , accuracy:  0.9642000198364258\n",
      "313/313 [==============================] - 0s 459us/step - loss: 0.1451 - accuracy: 0.9569\n",
      "11  эпох: loss -  0.1450704038143158 , accuracy:  0.9569000005722046\n",
      "313/313 [==============================] - 0s 452us/step - loss: 0.1243 - accuracy: 0.9632\n",
      "12  эпох: loss -  0.12430316209793091 , accuracy:  0.9631999731063843\n",
      "313/313 [==============================] - 0s 444us/step - loss: 0.1311 - accuracy: 0.9613\n",
      "13  эпох: loss -  0.1311217099428177 , accuracy:  0.9613000154495239\n",
      "313/313 [==============================] - 0s 460us/step - loss: 0.1124 - accuracy: 0.9673\n",
      "14  эпох: loss -  0.11242280155420303 , accuracy:  0.9672999978065491\n",
      "313/313 [==============================] - 0s 450us/step - loss: 0.1197 - accuracy: 0.9656\n",
      "15  эпох: loss -  0.11969663202762604 , accuracy:  0.9656000137329102\n",
      "313/313 [==============================] - 0s 467us/step - loss: 0.1317 - accuracy: 0.9624\n",
      "16  эпох: loss -  0.13172201812267303 , accuracy:  0.9624000191688538\n",
      "313/313 [==============================] - 0s 484us/step - loss: 0.1253 - accuracy: 0.9668\n",
      "17  эпох: loss -  0.1253325343132019 , accuracy:  0.9667999744415283\n",
      "313/313 [==============================] - 0s 441us/step - loss: 0.1292 - accuracy: 0.9648\n",
      "18  эпох: loss -  0.12918232381343842 , accuracy:  0.9648000001907349\n",
      "313/313 [==============================] - 0s 444us/step - loss: 0.1260 - accuracy: 0.9643\n",
      "19  эпох: loss -  0.12601038813591003 , accuracy:  0.9642999768257141\n",
      "313/313 [==============================] - 0s 470us/step - loss: 0.1104 - accuracy: 0.9697\n",
      "20  эпох: loss -  0.11038430035114288 , accuracy:  0.9696999788284302\n",
      "313/313 [==============================] - 0s 460us/step - loss: 0.1405 - accuracy: 0.9645\n",
      "21  эпох: loss -  0.14049404859542847 , accuracy:  0.9645000100135803\n",
      "313/313 [==============================] - 0s 457us/step - loss: 0.1193 - accuracy: 0.9660\n",
      "22  эпох: loss -  0.1192757710814476 , accuracy:  0.9660000205039978\n",
      "313/313 [==============================] - 0s 466us/step - loss: 0.1220 - accuracy: 0.9667\n",
      "23  эпох: loss -  0.1219664067029953 , accuracy:  0.96670001745224\n",
      "313/313 [==============================] - 0s 463us/step - loss: 0.1358 - accuracy: 0.9635\n",
      "24  эпох: loss -  0.13575059175491333 , accuracy:  0.9635000228881836\n",
      "313/313 [==============================] - 0s 486us/step - loss: 0.1240 - accuracy: 0.9669\n",
      "25  эпох: loss -  0.12400966882705688 , accuracy:  0.9668999910354614\n",
      "313/313 [==============================] - 0s 459us/step - loss: 0.1329 - accuracy: 0.9641\n",
      "26  эпох: loss -  0.1329413801431656 , accuracy:  0.9641000032424927\n",
      "313/313 [==============================] - 0s 496us/step - loss: 0.1332 - accuracy: 0.9647\n",
      "27  эпох: loss -  0.13317438960075378 , accuracy:  0.9646999835968018\n",
      "313/313 [==============================] - 0s 499us/step - loss: 0.1325 - accuracy: 0.9661\n",
      "28  эпох: loss -  0.13246165215969086 , accuracy:  0.9660999774932861\n",
      "313/313 [==============================] - 0s 498us/step - loss: 0.1361 - accuracy: 0.9604\n",
      "29  эпох: loss -  0.13606171309947968 , accuracy:  0.9603999853134155\n",
      "313/313 [==============================] - 0s 484us/step - loss: 0.1225 - accuracy: 0.9679\n",
      "30  эпох: loss -  0.12248930335044861 , accuracy:  0.9678999781608582\n",
      "313/313 [==============================] - 0s 473us/step - loss: 0.1084 - accuracy: 0.9694\n",
      "31  эпох: loss -  0.10840063542127609 , accuracy:  0.9693999886512756\n",
      "313/313 [==============================] - 0s 522us/step - loss: 0.1161 - accuracy: 0.9706\n",
      "32  эпох: loss -  0.11609885096549988 , accuracy:  0.9706000089645386\n",
      "313/313 [==============================] - 0s 502us/step - loss: 0.1281 - accuracy: 0.9668\n",
      "33  эпох: loss -  0.12813489139080048 , accuracy:  0.9667999744415283\n",
      "313/313 [==============================] - 0s 466us/step - loss: 0.1295 - accuracy: 0.9667\n",
      "34  эпох: loss -  0.12952588498592377 , accuracy:  0.96670001745224\n",
      "313/313 [==============================] - 0s 479us/step - loss: 0.1379 - accuracy: 0.9676\n",
      "35  эпох: loss -  0.1378922164440155 , accuracy:  0.9675999879837036\n",
      "313/313 [==============================] - 0s 463us/step - loss: 0.1323 - accuracy: 0.9676\n",
      "36  эпох: loss -  0.13232320547103882 , accuracy:  0.9675999879837036\n",
      "313/313 [==============================] - 0s 486us/step - loss: 0.1573 - accuracy: 0.9674\n",
      "37  эпох: loss -  0.15728600323200226 , accuracy:  0.9674000144004822\n",
      "313/313 [==============================] - 0s 495us/step - loss: 0.1329 - accuracy: 0.9663\n",
      "38  эпох: loss -  0.13290958106517792 , accuracy:  0.9663000106811523\n",
      "313/313 [==============================] - 0s 486us/step - loss: 0.1311 - accuracy: 0.9661\n",
      "39  эпох: loss -  0.1311059296131134 , accuracy:  0.9660999774932861\n",
      "313/313 [==============================] - 0s 485us/step - loss: 0.1363 - accuracy: 0.9677\n",
      "40  эпох: loss -  0.13630877435207367 , accuracy:  0.9677000045776367\n"
     ]
    }
   ],
   "source": [
    "for i in range(40):\n",
    "    model = Sequential([\n",
    "        Dense(64, activation='relu', input_shape=(784,)), \n",
    "        Dense(8, activation='relu'), \n",
    "        Dense(10, activation='softplus')]\n",
    "    )\n",
    "\n",
    "    model.compile(\n",
    "        optimizer='adam', \n",
    "        loss='categorical_crossentropy', \n",
    "        metrics=['accuracy']\n",
    "    )\n",
    "\n",
    "    model.fit(\n",
    "        train_images, \n",
    "        to_categorical(train_labels), \n",
    "        epochs=i + 1, \n",
    "        verbose=0\n",
    "    )\n",
    "\n",
    "    result = model.evaluate(test_images, to_categorical(test_labels))\n",
    "    losses[i] = result[0]\n",
    "    accuracy[i] = result[1]\n",
    "    \n",
    "    print(i + 1, ' эпох: loss - ', result[0], ', accuracy: ', result[1])"
   ]
  },
  {
   "cell_type": "code",
   "execution_count": 28,
   "metadata": {},
   "outputs": [
    {
     "data": {
      "image/png": "[encoded data removed]",
      "text/plain": [
       "<Figure size 864x288 with 2 Axes>"
      ]
     },
     "metadata": {
      "needs_background": "light"
     },
     "output_type": "display_data"
    }
   ],
   "source": [
    "plt.figure(figsize=(12, 4))\n",
    "\n",
    "plt.subplot(1, 2, 1)\n",
    "plt.plot(accuracy)\n",
    "plt.title('Точность')\n",
    "\n",
    "plt.subplot(1, 2, 2)\n",
    "plt.plot(losses)\n",
    "plt.title('Ошибка')\n",
    "\n",
    "plt.show()"
   ]
  },
  {
   "cell_type": "code",
   "execution_count": 37,
   "metadata": {},
   "outputs": [],
   "source": [
    "# 15 эпох достаточно"
   ]
  },
  {
   "cell_type": "code",
   "execution_count": 38,
   "metadata": {},
   "outputs": [
    {
     "name": "stdout",
     "output_type": "stream",
     "text": [
      "Epoch 1/15\n",
      "1875/1875 [==============================] - 2s 669us/step - loss: 0.5336 - accuracy: 0.8387\n",
      "Epoch 2/15\n",
      "1875/1875 [==============================] - 1s 625us/step - loss: 0.2326 - accuracy: 0.9312\n",
      "Epoch 3/15\n",
      "1875/1875 [==============================] - 1s 622us/step - loss: 0.1835 - accuracy: 0.9464\n",
      "Epoch 4/15\n",
      "1875/1875 [==============================] - 1s 619us/step - loss: 0.1544 - accuracy: 0.9549\n",
      "Epoch 5/15\n",
      "1875/1875 [==============================] - 1s 621us/step - loss: 0.1385 - accuracy: 0.9593\n",
      "Epoch 6/15\n",
      "1875/1875 [==============================] - 1s 616us/step - loss: 0.1230 - accuracy: 0.9640\n",
      "Epoch 7/15\n",
      "1875/1875 [==============================] - 1s 617us/step - loss: 0.1152 - accuracy: 0.9655\n",
      "Epoch 8/15\n",
      "1875/1875 [==============================] - 1s 621us/step - loss: 0.1028 - accuracy: 0.9681\n",
      "Epoch 9/15\n",
      "1875/1875 [==============================] - 1s 621us/step - loss: 0.1005 - accuracy: 0.9699\n",
      "Epoch 10/15\n",
      "1875/1875 [==============================] - 1s 620us/step - loss: 0.0924 - accuracy: 0.9714\n",
      "Epoch 11/15\n",
      "1875/1875 [==============================] - 1s 619us/step - loss: 0.0877 - accuracy: 0.9727\n",
      "Epoch 12/15\n",
      "1875/1875 [==============================] - 1s 618us/step - loss: 0.0818 - accuracy: 0.9756\n",
      "Epoch 13/15\n",
      "1875/1875 [==============================] - 1s 620us/step - loss: 0.0778 - accuracy: 0.9760\n",
      "Epoch 14/15\n",
      "1875/1875 [==============================] - 1s 620us/step - loss: 0.0739 - accuracy: 0.9768\n",
      "Epoch 15/15\n",
      "1875/1875 [==============================] - 1s 619us/step - loss: 0.0726 - accuracy: 0.9765\n",
      "313/313 [==============================] - 0s 483us/step - loss: 0.1153 - accuracy: 0.9688\n"
     ]
    },
    {
     "data": {
      "text/plain": [
       "[0.11528655141592026, 0.9688000082969666]"
      ]
     },
     "execution_count": 38,
     "metadata": {},
     "output_type": "execute_result"
    }
   ],
   "source": [
    "model = Sequential([\n",
    "    Dense(64, activation='relu', input_shape=(784,)), \n",
    "    Dense(8, activation='relu'), \n",
    "    Dense(10, activation='softplus')]\n",
    ")\n",
    "\n",
    "model.compile(\n",
    "    optimizer='adam', \n",
    "    loss='categorical_crossentropy', \n",
    "    metrics=['accuracy']\n",
    ")\n",
    "\n",
    "model.fit(\n",
    "    train_images, \n",
    "    to_categorical(train_labels), \n",
    "    epochs=15\n",
    ")\n",
    "\n",
    "model.evaluate(test_images, to_categorical(test_labels))"
   ]
  },
  {
   "cell_type": "markdown",
   "metadata": {},
   "source": [
    "2 Задание"
   ]
  },
  {
   "cell_type": "code",
   "execution_count": 31,
   "metadata": {},
   "outputs": [],
   "source": [
    "# summary вывод сводки по модели"
   ]
  },
  {
   "cell_type": "code",
   "execution_count": 32,
   "metadata": {},
   "outputs": [],
   "source": [
    "# add добавить новый слой в модель"
   ]
  },
  {
   "cell_type": "code",
   "execution_count": 33,
   "metadata": {},
   "outputs": [],
   "source": [
    "# clone_model"
   ]
  },
  {
   "cell_type": "code",
   "execution_count": 34,
   "metadata": {},
   "outputs": [
    {
     "name": "stdout",
     "output_type": "stream",
     "text": [
      "Model: \"sequential_91\"\n",
      "_________________________________________________________________\n",
      " Layer (type)                Output Shape              Param #   \n",
      "=================================================================\n",
      " dense_308 (Dense)           (None, 64)                50240     \n",
      "                                                                 \n",
      " dense_309 (Dense)           (None, 8)                 520       \n",
      "                                                                 \n",
      " dense_310 (Dense)           (None, 10)                90        \n",
      "                                                                 \n",
      "=================================================================\n",
      "Total params: 50,850\n",
      "Trainable params: 50,850\n",
      "Non-trainable params: 0\n",
      "_________________________________________________________________\n"
     ]
    }
   ],
   "source": [
    "\n",
    "model.summary()"
   ]
  },
  {
   "cell_type": "code",
   "execution_count": 35,
   "metadata": {},
   "outputs": [],
   "source": [
    "model.add(Dense(64, activation='relu'))"
   ]
  },
  {
   "cell_type": "code",
   "execution_count": 36,
   "metadata": {},
   "outputs": [
    {
     "data": {
      "text/plain": [
       "<keras.engine.sequential.Sequential at 0x26e99af6640>"
      ]
     },
     "execution_count": 36,
     "metadata": {},
     "output_type": "execute_result"
    }
   ],
   "source": [
    "keras.models.clone_model(model)"
   ]
  },
  {
   "cell_type": "code",
   "execution_count": null,
   "metadata": {},
   "outputs": [],
   "source": []
  }
 ],
 "metadata": {
  "kernelspec": {
   "display_name": "Python 3 (ipykernel)",
   "language": "python",
   "name": "python3"
  },
  "language_info": {
   "codemirror_mode": {
    "name": "ipython",
    "version": 3
   },
   "file_extension": ".py",
   "mimetype": "text/x-python",
   "name": "python",
   "nbconvert_exporter": "python",
   "pygments_lexer": "ipython3",
   "version": "3.9.7"
  }
 },
 "nbformat": 4,
 "nbformat_minor": 4
}
