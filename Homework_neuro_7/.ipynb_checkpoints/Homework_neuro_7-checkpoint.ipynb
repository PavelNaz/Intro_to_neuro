{
 "cells": [
  {
   "cell_type": "markdown",
   "id": "3e07928c",
   "metadata": {},
   "source": [
    "Faster R-CNN"
   ]
  },
  {
   "cell_type": "markdown",
   "id": "312096fb",
   "metadata": {},
   "source": [
    "Архитектура появилась в 2016 году и является как одной из самых точных на сегодняшний день, так и\n",
    "относительно быстрой"
   ]
  },
  {
   "cell_type": "markdown",
   "id": "f713cd4c",
   "metadata": {},
   "source": [
    " В основе RPN лежит система якорей. Архитектура Faster R-CNN образована следующим образом:"
   ]
  },
  {
   "cell_type": "markdown",
   "id": "99292d58",
   "metadata": {},
   "source": [
    "1) Изображение подается на вход сверточной нейронной сети. Так, формируется карта признаков."
   ]
  },
  {
   "cell_type": "markdown",
   "id": "2ce0bfa6",
   "metadata": {},
   "source": [
    "2) Карта признаков обрабатывается слоем RPN. Здесь скользящее окно проходится по карте признаков. Центр скользящего окна связан с центром якорей. Якоря – это области, имеющие разные соотношения сторон и разные размеры. На основе метрики IoF(intersection-over-union), степени пересечения якорей и истинных размеченных прямоугольников, выносится решение о текущем регионе — есть объект или нет."
   ]
  },
  {
   "cell_type": "markdown",
   "id": "542a59fd",
   "metadata": {},
   "source": [
    "3) Далее используется алгоритм FastCNN: карта признаков с полученными объектами передаются слою RoI с последующей обработкой полносвязных слоев и классификацией, а также с определением смещения регионов потенциальных объектов."
   ]
  },
  {
   "cell_type": "markdown",
   "id": "9096b836",
   "metadata": {},
   "source": [
    "архитектура Faster R-CNN отличается от других архитектур тем, что генерация гипотез выполняется с помощью отдельно дифференцируемого модуля и в архитектуре реализовано итеративное обучение."
   ]
  },
  {
   "cell_type": "markdown",
   "id": "68698d3d",
   "metadata": {},
   "source": [
    "Плюсы архитектуры Faster R-CNN  - быстрота и точность."
   ]
  },
  {
   "cell_type": "markdown",
   "id": "f39e9fb9",
   "metadata": {},
   "source": [
    "Минусы архитектуры Faster R-CNN - хуже справляется с локализацией , чем Fast R-CNN. Трудно работать с объектами разных масштабов."
   ]
  }
 ],
 "metadata": {
  "kernelspec": {
   "display_name": "Python 3 (ipykernel)",
   "language": "python",
   "name": "python3"
  },
  "language_info": {
   "codemirror_mode": {
    "name": "ipython",
    "version": 3
   },
   "file_extension": ".py",
   "mimetype": "text/x-python",
   "name": "python",
   "nbconvert_exporter": "python",
   "pygments_lexer": "ipython3",
   "version": "3.9.7"
  }
 },
 "nbformat": 4,
 "nbformat_minor": 5
}
