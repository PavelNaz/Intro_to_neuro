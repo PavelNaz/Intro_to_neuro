{
 "cells": [
  {
   "cell_type": "code",
   "execution_count": 1,
   "id": "686bf9db",
   "metadata": {},
   "outputs": [],
   "source": [
    "from __future__ import print_function\n",
    "import keras # расскоментируйте эту строку, чтобы начать обучение\n",
    "from keras.datasets import cifar10\n",
    "from keras.preprocessing.image import ImageDataGenerator\n",
    "from keras.models import Sequential\n",
    "from keras.layers import Dense, Dropout, Activation, Flatten\n",
    "from keras.layers import Conv2D, MaxPooling2D\n",
    "import matplotlib.pyplot as plt\n",
    "\n",
    "import os"
   ]
  },
  {
   "cell_type": "code",
   "execution_count": 2,
   "id": "411fd0af",
   "metadata": {},
   "outputs": [],
   "source": [
    "import tensorflow as tf\n",
    "gpu_devices = tf.config.experimental.list_physical_devices('GPU')\n",
    "for device in gpu_devices:\n",
    "    tf.config.experimental.set_memory_growth(device, True)"
   ]
  },
  {
   "cell_type": "code",
   "execution_count": 3,
   "id": "04b88024",
   "metadata": {},
   "outputs": [],
   "source": [
    "# установка параметров нейросети\n",
    "batch_size = 320 \n",
    "num_classes = 10\n",
    "epochs = 15\n",
    "data_augmentation = False \n",
    "num_predictions = 20\n",
    "save_dir = os.path.join(os.getcwd(), 'saved_models')\n",
    "model_name = 'keras_cifar10_trained_model.h5'"
   ]
  },
  {
   "cell_type": "code",
   "execution_count": 4,
   "id": "c3aa433f",
   "metadata": {},
   "outputs": [
    {
     "name": "stdout",
     "output_type": "stream",
     "text": [
      "x_train shape: (50000, 32, 32, 3)\n",
      "50000 тренировочные примеры\n",
      "10000 тестовые примеры\n"
     ]
    }
   ],
   "source": [
    "# разделение тренировочной и тестовой выборки\n",
    "(x_train, y_train), (x_test, y_test) = cifar10.load_data()\n",
    "print('x_train shape:', x_train.shape)\n",
    "print(x_train.shape[0], 'тренировочные примеры')\n",
    "print(x_test.shape[0], 'тестовые примеры')"
   ]
  },
  {
   "cell_type": "code",
   "execution_count": 5,
   "id": "fb43fd17",
   "metadata": {},
   "outputs": [],
   "source": [
    "# преобразование матрицы чисел 0-9 в бинарную матрицу чисел 0-1\n",
    "y_train = keras.utils.to_categorical(y_train, num_classes)\n",
    "y_test = keras.utils.to_categorical(y_test, num_classes)"
   ]
  },
  {
   "cell_type": "code",
   "execution_count": 6,
   "id": "c97a52a3",
   "metadata": {},
   "outputs": [
    {
     "name": "stdout",
     "output_type": "stream",
     "text": [
      "Не используется data augmentation\n",
      "Epoch 1/15\n",
      "157/157 [==============================] - 339s 2s/step - loss: 1.7346 - accuracy: 0.3619 - val_loss: 1.3519 - val_accuracy: 0.5121\n",
      "Epoch 2/15\n",
      "157/157 [==============================] - 113s 723ms/step - loss: 1.2942 - accuracy: 0.5382 - val_loss: 1.1361 - val_accuracy: 0.5984\n",
      "Epoch 3/15\n",
      "157/157 [==============================] - 113s 721ms/step - loss: 1.0874 - accuracy: 0.6134 - val_loss: 0.9998 - val_accuracy: 0.6515\n",
      "Epoch 4/15\n",
      "157/157 [==============================] - 113s 718ms/step - loss: 0.9719 - accuracy: 0.6601 - val_loss: 0.8724 - val_accuracy: 0.7024\n",
      "Epoch 5/15\n",
      "157/157 [==============================] - 113s 722ms/step - loss: 0.8634 - accuracy: 0.6982 - val_loss: 0.7788 - val_accuracy: 0.7290\n",
      "Epoch 6/15\n",
      "157/157 [==============================] - 113s 717ms/step - loss: 0.7824 - accuracy: 0.7262 - val_loss: 0.7454 - val_accuracy: 0.7398\n",
      "Epoch 7/15\n",
      "157/157 [==============================] - 113s 720ms/step - loss: 0.7313 - accuracy: 0.7426 - val_loss: 0.6870 - val_accuracy: 0.7612\n",
      "Epoch 8/15\n",
      "157/157 [==============================] - 114s 726ms/step - loss: 0.6865 - accuracy: 0.7617 - val_loss: 0.6895 - val_accuracy: 0.7615\n",
      "Epoch 9/15\n",
      "157/157 [==============================] - 114s 725ms/step - loss: 0.6449 - accuracy: 0.7735 - val_loss: 0.6843 - val_accuracy: 0.7684\n",
      "Epoch 10/15\n",
      "157/157 [==============================] - 114s 726ms/step - loss: 0.6089 - accuracy: 0.7860 - val_loss: 0.6637 - val_accuracy: 0.7713\n",
      "Epoch 11/15\n",
      "157/157 [==============================] - 113s 721ms/step - loss: 0.5768 - accuracy: 0.7953 - val_loss: 0.6456 - val_accuracy: 0.7762\n",
      "Epoch 12/15\n",
      "157/157 [==============================] - 113s 720ms/step - loss: 0.5488 - accuracy: 0.8067 - val_loss: 0.6279 - val_accuracy: 0.7820\n",
      "Epoch 13/15\n",
      "157/157 [==============================] - 113s 720ms/step - loss: 0.5211 - accuracy: 0.8175 - val_loss: 0.6273 - val_accuracy: 0.7855\n",
      "Epoch 14/15\n",
      "157/157 [==============================] - 114s 724ms/step - loss: 0.4927 - accuracy: 0.8240 - val_loss: 0.6330 - val_accuracy: 0.7846\n",
      "Epoch 15/15\n",
      "157/157 [==============================] - 115s 733ms/step - loss: 0.4659 - accuracy: 0.8332 - val_loss: 0.6176 - val_accuracy: 0.7922\n",
      "CPU times: total: 7h 48min 53s\n",
      "Wall time: 32min 7s\n"
     ]
    }
   ],
   "source": [
    "%%time\n",
    "# конфигурирование слоев нейросети\n",
    "model = Sequential()\n",
    "\n",
    "# слои нейросети отвественные за свертку и max-pooling\n",
    "model.add(Conv2D(128, (3, 3), padding='same',\n",
    "                 input_shape=x_train.shape[1:]))\n",
    "model.add(Activation('relu'))\n",
    "model.add(Conv2D(128, (3, 3)))\n",
    "model.add(Activation('relu'))\n",
    "model.add(MaxPooling2D(pool_size=(2, 2)))\n",
    "model.add(Dropout(0.25))\n",
    "\n",
    "model.add(Conv2D(64, (3, 3), padding='same'))\n",
    "model.add(Activation('relu'))\n",
    "model.add(Conv2D(64, (3, 3)))\n",
    "model.add(Activation('relu'))\n",
    "model.add(MaxPooling2D(pool_size=(2, 2)))\n",
    "model.add(Dropout(0.25))\n",
    "\n",
    "# полносвязные слои нейронной сети\n",
    "model.add(Flatten())\n",
    "model.add(Dense(512))\n",
    "model.add(Activation('relu'))\n",
    "model.add(Dropout(0.5))\n",
    "model.add(Dense(num_classes))\n",
    "model.add(Activation('softmax'))\n",
    "\n",
    "# инициализация RMSprop optimizer\n",
    "#opt = keras.optimizers.RMSprop(lr=0.0001, decay=1e-6)\n",
    "\n",
    "# компиляция модели\n",
    "model.compile(loss='categorical_crossentropy',\n",
    "              optimizer='Adam', #opt,\n",
    "              metrics=['accuracy'])\n",
    "\n",
    "x_train = x_train.astype('float32')\n",
    "x_test = x_test.astype('float32')\n",
    "x_train /= 255\n",
    "x_test /= 255\n",
    "\n",
    "if not data_augmentation:\n",
    "    print('Не используется data augmentation')\n",
    "    model.fit(x_train, y_train,\n",
    "              batch_size=batch_size,\n",
    "              epochs=epochs,\n",
    "              validation_data=(x_test, y_test),\n",
    "              shuffle=True)\n",
    "else:\n",
    "    print('Использование data augmentation в реальном времени')\n",
    "    # Препроцессинг и data augmentation в реальном времени:\n",
    "    datagen = ImageDataGenerator(\n",
    "        featurewise_center=False,\n",
    "        samplewise_center=False,\n",
    "        featurewise_std_normalization=False,\n",
    "        samplewise_std_normalization=False,\n",
    "        zca_whitening=False, \n",
    "        zca_epsilon=1e-06, \n",
    "        rotation_range=0, \n",
    "        width_shift_range=0.1,\n",
    "        height_shift_range=0.1,\n",
    "        shear_range=0., \n",
    "        zoom_range=0., \n",
    "        channel_shift_range=0.,\n",
    "        fill_mode='nearest',\n",
    "        cval=0.,\n",
    "        horizontal_flip=True,\n",
    "        vertical_flip=False,\n",
    "        rescale=None,\n",
    "        preprocessing_function=None,\n",
    "        data_format=None,\n",
    "        validation_split=0.0)\n",
    "\n",
    "    # запуск data augmentation через fit\n",
    "    #datagen.fit(x_train)\n",
    "\n",
    "    # запуск data augmentation через fit_generator\n",
    "    model.fit_generator(datagen.flow(x_train, y_train,\n",
    "                                     batch_size=batch_size),\n",
    "                        epochs=epochs,\n",
    "                        validation_data=(x_test, y_test),\n",
    "                        workers=4)"
   ]
  },
  {
   "cell_type": "code",
   "execution_count": 7,
   "id": "f0d7abcd",
   "metadata": {},
   "outputs": [
    {
     "name": "stdout",
     "output_type": "stream",
     "text": [
      "сохранить обученную модель как C:\\Users\\Pavel_Nazarenko\\Intro_to_neuro_Jupyter\\saved_models\\keras_cifar10_trained_model.h5 \n"
     ]
    }
   ],
   "source": [
    "# сохранение модели и весов\n",
    "if not os.path.isdir(save_dir):\n",
    "    os.makedirs(save_dir)\n",
    "model_path = os.path.join(save_dir, model_name)\n",
    "model.save(model_path)\n",
    "print('сохранить обученную модель как %s ' % model_path)"
   ]
  },
  {
   "cell_type": "code",
   "execution_count": 8,
   "id": "daae87de",
   "metadata": {},
   "outputs": [
    {
     "name": "stdout",
     "output_type": "stream",
     "text": [
      "313/313 [==============================] - 6s 18ms/step - loss: 0.6176 - accuracy: 0.7922\n",
      "Test loss: 0.6175854206085205\n",
      "Test accuracy: 0.7922000288963318\n"
     ]
    }
   ],
   "source": [
    "# проверка работы обученной модели\n",
    "scores = model.evaluate(x_test, y_test, verbose=1)\n",
    "print('Test loss:', scores[0])\n",
    "print('Test accuracy:', scores[1])"
   ]
  },
  {
   "cell_type": "markdown",
   "id": "bb2969cb",
   "metadata": {},
   "source": [
    "При увеличении количества эпох, результаты улучшаются, но до определённого момента, затем точность не растет\n",
    "При увеличении batch_size, возрастает скорость (расчёт вёлся на GPU), но падает точность.\n",
    "augmentation очень медленный. можно пробовать его для улучшения качества, но нужны для этого другие мощности.\n",
    "метод оптимизации Adam лучше.\n",
    "Увеличил число нейронов - качество улучшилось\n",
    "Для MNIST, CIFAR100 и IMAGENET необходимо поменять число входных и выходных нейронов, т.к. размеры исходных картинок и количество искомых категорий в этих датасетах различное."
   ]
  },
  {
   "cell_type": "code",
   "execution_count": null,
   "id": "0c863548",
   "metadata": {},
   "outputs": [],
   "source": []
  }
 ],
 "metadata": {
  "kernelspec": {
   "display_name": "Python 3 (ipykernel)",
   "language": "python",
   "name": "python3"
  },
  "language_info": {
   "codemirror_mode": {
    "name": "ipython",
    "version": 3
   },
   "file_extension": ".py",
   "mimetype": "text/x-python",
   "name": "python",
   "nbconvert_exporter": "python",
   "pygments_lexer": "ipython3",
   "version": "3.9.7"
  }
 },
 "nbformat": 4,
 "nbformat_minor": 5
}
